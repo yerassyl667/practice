{
 "cells": [
  {
   "cell_type": "code",
   "execution_count": null,
   "metadata": {},
   "outputs": [
    {
     "name": "stdout",
     "output_type": "stream",
     "text": [
      "Brad Pitt was born in 1969\n",
      "1969\n",
      "Brad Pitt\n",
      "50\n",
      "American\n",
      "Actor\n",
      "1\n",
      "\n",
      "Donald Pitt was born in 1949\n",
      "1949\n",
      "Donald Pitt\n",
      "70\n",
      "American\n",
      "president\n",
      "2\n"
     ]
    }
   ],
   "source": [
    "class Person:\n",
    "    count = 0\n",
    "    def __init__(self, name, surname, age, occupation, nationality):\n",
    "        self.name = name\n",
    "        self.surname = surname\n",
    "        self.age = age\n",
    "        self.occupation = occupation  \n",
    "        self.nationality = nationality\n",
    "        Person.count +=1\n",
    "        \n",
    "\n",
    "    def year_born(self, cur_year):\n",
    "        return cur_year - self.age\n",
    "\n",
    "    def get_name(self):\n",
    "        return self.name\n",
    "\n",
    "    def get_surname(self):\n",
    "        return self.surname\n",
    "\n",
    "    def get_age(self):\n",
    "        return self.age\n",
    "\n",
    "    def get_occupation(self):  \n",
    "        return self.occupation\n",
    "\n",
    "    def get_nationality(self):\n",
    "        return self.nationality\n",
    "\n",
    "person1 = Person(name=\"Brad\", surname=\"Pitt\", age=50, occupation=\"Actor\", nationality=\"American\")\n",
    "\n",
    "year = person1.year_born(cur_year=2019)\n",
    "name = person1.get_name() + \" \" + person1.get_surname()  \n",
    "age = person1.get_age()\n",
    "nationality = person1.get_nationality()\n",
    "occupation = person1.get_occupation()\n",
    "\n",
    "print(f\"{name} was born in {year}\")\n",
    "print(year)\n",
    "print(name)\n",
    "print(age)\n",
    "print(nationality)\n",
    "print(occupation)\n",
    "print(person1.count)\n",
    "print()\n",
    "\n",
    "person2 = Person(name=\"Donald\", surname=\"Trump\", age=70, occupation=\"president\", nationality=\"American\")\n",
    "year = person2.year_born(cur_year=2019)\n",
    "name = person2.get_name() + \" \" + person1.get_surname()  \n",
    "age = person2.get_age()\n",
    "nationality = person2.get_nationality()\n",
    "occupation = person2.get_occupation()\n",
    "print(f\"{name} was born in {year}\")\n",
    "print(year)\n",
    "print(name)\n",
    "print(age)\n",
    "print(nationality)\n",
    "print(occupation)\n",
    "print(person1.count)\n"
   ]
  }
 ],
 "metadata": {
  "kernelspec": {
   "display_name": "Python 3",
   "language": "python",
   "name": "python3"
  },
  "language_info": {
   "codemirror_mode": {
    "name": "ipython",
    "version": 3
   },
   "file_extension": ".py",
   "mimetype": "text/x-python",
   "name": "python",
   "nbconvert_exporter": "python",
   "pygments_lexer": "ipython3",
   "version": "3.11.9"
  }
 },
 "nbformat": 4,
 "nbformat_minor": 2
}
