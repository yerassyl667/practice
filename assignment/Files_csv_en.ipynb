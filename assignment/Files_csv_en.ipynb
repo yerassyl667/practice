{
 "cells": [
  {
   "cell_type": "markdown",
   "metadata": {},
   "source": [
    "### Files: CSV format Lecture Notes\n",
    "\n",
    "Download to your PC CSV file \"Annual Enterprise Survey: 2018 Financial Year (Provision)-CSV\" at the following link: https://www.stats.govt.nz/large-datasets/csv-files-for-download/"
   ]
  },
  {
   "cell_type": "code",
   "execution_count": null,
   "metadata": {},
   "outputs": [],
   "source": [
    "import csv\n",
    "import os"
   ]
  },
  {
   "cell_type": "code",
   "execution_count": 8,
   "metadata": {},
   "outputs": [
    {
     "data": {
      "text/plain": [
       "['3w.ipynb',\n",
       " 'annual-enterprise-survey-2018-financial-year-provisional-csv.csv',\n",
       " 'arithmetics.py',\n",
       " 'classes.py',\n",
       " 'constructor.ipynb',\n",
       " 'Files_csv_en.ipynb',\n",
       " 'inheritance.ipynb',\n",
       " 'Module_advanced_en.ipynb',\n",
       " 'Module_intro_en.ipynb',\n",
       " 'Module_method_import_en.ipynb',\n",
       " '__pycache__']"
      ]
     },
     "execution_count": 8,
     "metadata": {},
     "output_type": "execute_result"
    }
   ],
   "source": [
    "[col for col in os.listdir(r'C:\\Users\\kulse\\OneDrive\\Рабочий стол\\practice\\assignment')]"
   ]
  },
  {
   "cell_type": "code",
   "execution_count": 17,
   "metadata": {},
   "outputs": [
    {
     "name": "stdout",
     "output_type": "stream",
     "text": [
      "[['Year', 'Industry_aggregation_NZSIOC', 'Industry_code_NZSIOC', 'Industry_name_NZSIOC', 'Units', 'Variable_code', 'Variable_name', 'Variable_category', 'Value', 'Industry_code_ANZSIC06']]\n"
     ]
    }
   ],
   "source": [
    "import csv\n",
    "\n",
    "data = []\n",
    "with open('annual-enterprise-survey-2018-financial-year-provisional-csv.csv', mode='r', encoding='utf-8') as file:\n",
    "    csv_reader = csv.reader(file)\n",
    "    for row in csv_reader:\n",
    "        data.append(row)\n",
    "        \n",
    "print(data[:1])\n"
   ]
  },
  {
   "cell_type": "markdown",
   "metadata": {},
   "source": [
    "### Expected result:\n",
    "```\n",
    "[['Year', 'Industry_aggregation_NZSIOC', 'Industry_code_NZSIOC', 'Industry_name_NZSIOC', 'Units', 'Variable_code', 'Variable_name', 'Variable_category', 'Value', 'Industry_code_ANZSIC06']]\n",
    "```"
   ]
  },
  {
   "cell_type": "code",
   "execution_count": 18,
   "metadata": {},
   "outputs": [
    {
     "name": "stdout",
     "output_type": "stream",
     "text": [
      "[['2018', 'Level 1', '99999', 'All industries', 'Dollars (millions)', 'H01', 'Total income', 'Financial performance', '691859', 'ANZSIC06 divisions A-S (excluding classes K6330, L6711, O7552, O760, O771, O772, S9540, S9601, S9602, and S9603)'], ['2018', 'Level 1', '99999', 'All industries', 'Dollars (millions)', 'H04', 'Sales, government funding, grants and subsidies', 'Financial performance', '605766', 'ANZSIC06 divisions A-S (excluding classes K6330, L6711, O7552, O760, O771, O772, S9540, S9601, S9602, and S9603)'], ['2018', 'Level 1', '99999', 'All industries', 'Dollars (millions)', 'H05', 'Interest, dividends and donations', 'Financial performance', '63509', 'ANZSIC06 divisions A-S (excluding classes K6330, L6711, O7552, O760, O771, O772, S9540, S9601, S9602, and S9603)'], ['2018', 'Level 1', '99999', 'All industries', 'Dollars (millions)', 'H07', 'Non-operating income', 'Financial performance', '22583', 'ANZSIC06 divisions A-S (excluding classes K6330, L6711, O7552, O760, O771, O772, S9540, S9601, S9602, and S9603)']]\n"
     ]
    }
   ],
   "source": [
    "print(data[1:5])"
   ]
  },
  {
   "cell_type": "markdown",
   "metadata": {},
   "source": [
    "### Expected result:\n",
    "```\n",
    "[['2018', 'Level 1', '99999', 'All industries', 'Dollars (millions)', 'H01', 'Total income', 'Financial performance', '691859', 'ANZSIC06 divisions A-S (excluding classes K6330, L6711, O7552, O760, O771, O772, S9540, S9601, S9602, and S9603)'], ['2018', 'Level 1', '99999', 'All industries', 'Dollars (millions)', 'H04', 'Sales, government funding, grants and subsidies', 'Financial performance', '605766', 'ANZSIC06 divisions A-S (excluding classes K6330, L6711, O7552, O760, O771, O772, S9540, S9601, S9602, and S9603)'], ['2018', 'Level 1', '99999', 'All industries', 'Dollars (millions)', 'H05', 'Interest, dividends and donations', 'Financial performance', '63509', 'ANZSIC06 divisions A-S (excluding classes K6330, L6711, O7552, O760, O771, O772, S9540, S9601, S9602, and S9603)'], ['2018', 'Level 1', '99999', 'All industries', 'Dollars (millions)', 'H07', 'Non-operating income', 'Financial performance', '22583', 'ANZSIC06 divisions A-S (excluding classes K6330, L6711, O7552, O760, O771, O772, S9540, S9601, S9602, and S9603)'], ['2018', 'Level 1', '99999', 'All industries', 'Dollars (millions)', 'H08', 'Total expenditure', 'Financial performance', '597623', 'ANZSIC06 divisions A-S (excluding classes K6330, L6711, O7552, O760, O771, O772, S9540, S9601, S9602, and S9603)']]\n",
    "```"
   ]
  },
  {
   "cell_type": "code",
   "execution_count": 19,
   "metadata": {},
   "outputs": [
    {
     "name": "stdout",
     "output_type": "stream",
     "text": [
      "[['2013', 'Level 3', 'ZZ11', 'Food product manufacturing', 'Percentage', 'H37', 'Quick ratio', 'Financial ratios', '52', 'ANZSIC06 groups C111, C112, C113, C114, C115, C116, C117, C118, and C119'], ['2013', 'Level 3', 'ZZ11', 'Food product manufacturing', 'Percentage', 'H38', 'Margin on sales of goods for resale', 'Financial ratios', '40', 'ANZSIC06 groups C111, C112, C113, C114, C115, C116, C117, C118, and C119'], ['2013', 'Level 3', 'ZZ11', 'Food product manufacturing', 'Percentage', 'H39', 'Return on equity', 'Financial ratios', '12', 'ANZSIC06 groups C111, C112, C113, C114, C115, C116, C117, C118, and C119'], ['2013', 'Level 3', 'ZZ11', 'Food product manufacturing', 'Percentage', 'H40', 'Return on total assets', 'Financial ratios', '5', 'ANZSIC06 groups C111, C112, C113, C114, C115, C116, C117, C118, and C119'], ['2013', 'Level 3', 'ZZ11', 'Food product manufacturing', 'Percentage', 'H41', 'Liabilities structure', 'Financial ratios', '46', 'ANZSIC06 groups C111, C112, C113, C114, C115, C116, C117, C118, and C119']]\n"
     ]
    }
   ],
   "source": [
    "print(data[-5:])"
   ]
  },
  {
   "cell_type": "markdown",
   "metadata": {},
   "source": [
    "### Expected result:\n",
    "```\n",
    "[['2013', 'Level 3', 'ZZ11', 'Food product manufacturing', 'Percentage', 'H37', 'Quick ratio', 'Financial ratios', '52', 'ANZSIC06 groups C111, C112, C113, C114, C115, C116, C117, C118, and C119'], ['2013', 'Level 3', 'ZZ11', 'Food product manufacturing', 'Percentage', 'H38', 'Margin on sales of goods for resale', 'Financial ratios', '40', 'ANZSIC06 groups C111, C112, C113, C114, C115, C116, C117, C118, and C119'], ['2013', 'Level 3', 'ZZ11', 'Food product manufacturing', 'Percentage', 'H39', 'Return on equity', 'Financial ratios', '12', 'ANZSIC06 groups C111, C112, C113, C114, C115, C116, C117, C118, and C119'], ['2013', 'Level 3', 'ZZ11', 'Food product manufacturing', 'Percentage', 'H40', 'Return on total assets', 'Financial ratios', '5', 'ANZSIC06 groups C111, C112, C113, C114, C115, C116, C117, C118, and C119'], ['2013', 'Level 3', 'ZZ11', 'Food product manufacturing', 'Percentage', 'H41', 'Liabilities structure', 'Financial ratios', '46', 'ANZSIC06 groups C111, C112, C113, C114, C115, C116, C117, C118, and C119']]\n",
    "```"
   ]
  },
  {
   "cell_type": "markdown",
   "metadata": {},
   "source": [
    "----\n",
    "### 1. Calculate how many different levels of aggregation of the industry exist (Industry_aggregation_NZSIOC)"
   ]
  },
  {
   "cell_type": "code",
   "execution_count": 54,
   "metadata": {},
   "outputs": [],
   "source": [
    "import csv\n",
    "\n",
    "unique_levels = set()\n",
    "\n",
    "def analyze_data(data):\n",
    "    header = data[0]  \n",
    "    rows = data[1:]\n",
    "\n",
    "    aggregation_index = header.index(\"Industry_aggregation_NZSIOC\")\n",
    "\n",
    "    for row in rows:\n",
    "        unique_levels.add(row[aggregation_index])\n",
    "\n",
    "file_path = \"annual-enterprise-survey-2018-financial-year-provisional-csv.csv\"\n",
    "with open(file_path, mode=\"r\") as file:\n",
    "    csv_reader = csv.reader(file)\n",
    "    data = list(csv_reader)\n",
    "\n",
    "analyze_data(data)\n",
    "\n",
    "\n"
   ]
  },
  {
   "cell_type": "code",
   "execution_count": 22,
   "metadata": {},
   "outputs": [
    {
     "name": "stdout",
     "output_type": "stream",
     "text": [
      "{'Level 1', 'Level 3', 'Level 4'}\n",
      "3\n"
     ]
    }
   ],
   "source": [
    "print(unique_levels)\n",
    "print(len(unique_levels))"
   ]
  },
  {
   "cell_type": "markdown",
   "metadata": {},
   "source": [
    "### Expected result:\n",
    "```\n",
    "{'Level 4', 'Level 3', 'Level 1'}\n",
    "3\n",
    "```"
   ]
  },
  {
   "cell_type": "markdown",
   "metadata": {},
   "source": [
    "### 2. Calculate how many different industries (Industry_name_nzsioc) exist, and return the list of these unique industries."
   ]
  },
  {
   "cell_type": "code",
   "execution_count": 38,
   "metadata": {},
   "outputs": [],
   "source": [
    "import csv\n",
    "unique_industries = set()\n",
    "\n",
    "def analyze_industries(data):\n",
    "    header = data[0]  \n",
    "    rows = data[1:]   \n",
    "    industry_index = header.index(\"Industry_name_NZSIOC\")\n",
    "    for row in rows:\n",
    "        if row[industry_index]:\n",
    "            unique_industries.add(row[industry_index].strip())\n",
    "\n",
    "file_path = \"annual-enterprise-survey-2018-financial-year-provisional-csv.csv\"\n",
    "with open(file_path, mode=\"r\") as file:\n",
    "    csv_reader = csv.reader(file)\n",
    "    data = list(csv_reader)\n",
    "\n",
    "analyze_industries(data)\n",
    "\n"
   ]
  },
  {
   "cell_type": "code",
   "execution_count": 39,
   "metadata": {},
   "outputs": [
    {
     "name": "stdout",
     "output_type": "stream",
     "text": [
      "{'Poultry, Deer and Other Livestock Farming', 'Building Cleaning, Pest Control and Other Support Services', 'Public order, safety and regulatory services', 'Transport, Postal and Warehousing', 'Printing', 'Construction Services', 'Veterinary and Other Professional Services', 'Tertiary Education', 'Fishing and Aquaculture', 'Retail Trade and Accommodation', 'Dairy Cattle Farming', 'Horticulture and Fruit Growing', 'Motor Vehicle and Motor Vehicle Parts Wholesaling', 'Property Operators and Real Estate Services', 'Furniture Manufacturing', 'Pulp, Paper and Converted Paper Product Manufacturing', 'Finance', 'Polymer Product and Rubber Product Manufacturing', 'Preschool Education', 'Non-Metallic Mineral Product Manufacturing', 'Fabricated Metal Product Manufacturing', 'Textile, Leather, Clothing and Footwear Manufacturing', 'Accommodation and Food Services', 'Heritage and Artistic Activities', 'Education and Training', 'Clothing, Knitted Products and Footwear Manufacturing', 'Transport Equipment Manufacturing', 'Rail, Water, Air and Other Transport', 'Non-Residential Property Operation', 'Water, Sewerage, Drainage and Waste Services', 'Public Order, Safety and Regulatory Services', 'Professional, Scientific and Technical Services', 'Machinery and Equipment Wholesaling', 'Grocery, Liquor and Tobacco Product Wholesaling', 'Wholesale Trade', 'Non-Financial Asset Leasing', 'Agriculture, Forestry and Fishing', 'Scientific, Architectural and Engineering Services', 'Administrative and Support Services', 'Repair and Maintenance', 'Furniture, Electrical and Hardware Retailing', 'Other Goods Wholesaling', 'Basic Chemical and Basic Polymer Manufacturing', 'Real Estate Services', 'Professional, Scientific, Technical, Administrative and Support Services', 'Machinery Manufacturing', 'Telecommunications, Internet and Library Services', 'Food Product Manufacturing', 'Non-Residential Building Construction', 'Motor Vehicle and Motor Vehicle Parts and Fuel Retailing', 'Other Store-Based Retailing and Non Store Retailing', 'Wood Product Manufacturing', 'Civil, Professional and Other Interest Groups', 'Financial Asset Investing', 'Primary Metal and Metal Product Manufacturing', 'Gambling Activities', 'Electricity, Gas, Water and Waste Services', 'Arts and Recreation Services', 'All industries', 'Recreational, Clothing, Footwear and Personal Accessory Retailing', 'Residential Care Services and Social Assistance', 'Food product manufacturing', 'Computer System Design and Related Services', 'Furniture and Other Manufacturing', 'Financial and Insurance Services', 'Information Media Services', 'Residential Building Construction', 'Basic Material Wholesaling', 'Other Manufacturing', 'Banking and Financing', 'Health and General Insurance', 'Food and Beverage Services', 'Supermarket, Grocery Stores and Specialised Food Retailing', 'Heavy and Civil Engineering Construction', 'Auxiliary Finance and Insurance Services', 'Medical and Other Health Care Services', 'Warehousing and Storage Services', 'Pharmaceutical, Cleaning and Other Chemical Manufacturing', 'Electricity and Gas Supply', 'Postal, Courier, Transport Support, and Warehousing Services', 'Beverage and Tobacco Product Manufacturing', 'Petroleum and Coal Product Manufacturing', 'Building Construction', 'Advertising, Market Research and Management Services', 'School Education', 'Fertiliser and Pesticide Manufacturing', 'Electronic and Electrical Equipment Manufacturing', 'Agriculture, Forestry and Fishing Support Services and Hunting', 'Employment and Other Administrative Services', 'Sheep, Beef Cattle and Grain Farming', 'Insurance', 'Textile and Leather Manufacturing', 'Rental and Hiring Services (except Real Estate)', 'Adult, Community and Other Education', 'Information Media and Telecommunications', 'Pharmaceutical and Other Store Based Retailing', 'Travel Agency and Tour Arrangement Services', 'Department Stores', 'Rental, Hiring and Real Estate Services', 'Manufacturing', 'Legal and Accounting Services', 'Health Care and Social Assistance', 'Other Services', 'Personal Care, Funeral and Other Personal Services', 'Construction', 'Life Insurance', 'Arts, Recreation and Other Services', 'Sport and Recreation Activities', 'Postal and Courier Pick Up and Delivery Services', 'Commission Based Wholesaling', 'Transport Support Services', 'Accommodation', 'Forestry and Logging', 'Road Transport', 'Hospitals', 'Basic Chemical and Chemical Product Manufacturing', 'Machinery and Other Equipment Manufacturing', 'Mining', 'Non-Store and Commission Based Retailing'}\n",
      "119\n"
     ]
    }
   ],
   "source": [
    "print(unique_industries)\n",
    "print(len(unique_industries))"
   ]
  },
  {
   "cell_type": "markdown",
   "metadata": {},
   "source": [
    "### Expected result:\n",
    "```\n",
    "{'Electricity, Gas, Water and Waste Services', 'Insurance', 'Recreational, Clothing, Footwear and Personal Accessory Retailing', 'Auxiliary Finance and Insurance Services', 'Non-Financial Asset Leasing', 'Education and Training', 'Textile and Leather Manufacturing', 'Commission Based Wholesaling', 'Financial and Insurance Services', 'Supermarket, Grocery Stores and Specialised Food Retailing', 'Information Media and Telecommunications', 'Legal and Accounting Services', 'Hospitals', 'Basic Chemical and Chemical Product Manufacturing', 'Motor Vehicle and Motor Vehicle Parts Wholesaling', 'Transport, Postal and Warehousing', 'Other Goods Wholesaling', 'Machinery Manufacturing', 'Food and Beverage Services', 'Health and General Insurance', 'Sport and Recreation Activities', 'Horticulture and Fruit Growing', 'Travel Agency and Tour Arrangement Services', 'Petroleum and Coal Product Manufacturing', 'Sheep, Beef Cattle and Grain Farming', 'Professional, Scientific, Technical, Administrative and Support Services', 'Non-Residential Building Construction', 'Heritage and Artistic Activities', 'Dairy Cattle Farming', 'Food Product Manufacturing', 'Mining', 'Financial Asset Investing', 'Clothing, Knitted Products and Footwear Manufacturing', 'Basic Chemical and Basic Polymer Manufacturing', 'Wholesale Trade', 'Agriculture, Forestry and Fishing', 'Personal Care, Funeral and Other Personal Services', 'Transport Equipment Manufacturing', 'All industries', 'Rental and Hiring Services (except Real Estate)', 'Property Operators and Real Estate Services', 'Heavy and Civil Engineering Construction', 'Food product manufacturing', 'Construction Services', 'Machinery and Other Equipment Manufacturing', 'Other Services', 'Banking and Financing', 'Health Care and Social Assistance', 'Information Media Services', 'Electronic and Electrical Equipment Manufacturing', 'Gambling Activities', 'Employment and Other Administrative Services', 'Warehousing and Storage Services', 'Retail Trade and Accommodation', 'Finance', 'Water, Sewerage, Drainage and Waste Services', 'Arts and Recreation Services', 'Road Transport', 'Printing', 'Furniture and Other Manufacturing', 'Furniture, Electrical and Hardware Retailing', 'Residential Care Services and Social Assistance', 'Civil, Professional and Other Interest Groups', 'Life Insurance', 'Building Construction', 'Other Manufacturing', 'Accommodation', 'Rail, Water, Air and Other Transport', 'Telecommunications, Internet and Library Services', 'Manufacturing', 'Motor Vehicle and Motor Vehicle Parts and Fuel Retailing', 'Beverage and Tobacco Product Manufacturing', 'Primary Metal and Metal Product Manufacturing', 'Preschool Education', 'Fabricated Metal Product Manufacturing', 'Public Order, Safety and Regulatory Services', 'Wood Product Manufacturing', 'Poultry, Deer and Other Livestock Farming', 'School Education', 'Administrative and Support Services', 'Non-Residential Property Operation', 'Repair and Maintenance', 'Polymer Product and Rubber Product Manufacturing', 'Accommodation and Food Services', 'Pulp, Paper and Converted Paper Product Manufacturing', 'Residential Building Construction', 'Adult, Community and Other Education', 'Non-Metallic Mineral Product Manufacturing', 'Pharmaceutical, Cleaning and Other Chemical Manufacturing', 'Non-Store and Commission Based Retailing', 'Rental, Hiring and Real Estate Services', 'Fertiliser and Pesticide Manufacturing', 'Electricity and Gas Supply', 'Forestry and Logging', 'Furniture Manufacturing', 'Pharmaceutical and Other Store Based Retailing', 'Department Stores', 'Transport Support Services', 'Construction', 'Public order, safety and regulatory services', 'Tertiary Education', 'Medical and Other Health Care Services', 'Postal, Courier, Transport Support, and Warehousing Services', 'Basic Material Wholesaling', 'Computer System Design and Related Services', 'Arts, Recreation and Other Services', 'Postal and Courier Pick Up and Delivery Services', 'Real Estate Services', 'Advertising, Market Research and Management Services', 'Veterinary and Other Professional Services', 'Fishing and Aquaculture', 'Machinery and Equipment Wholesaling', 'Professional, Scientific and Technical Services', 'Grocery, Liquor and Tobacco Product Wholesaling', 'Other Store-Based Retailing and Non Store Retailing', 'Agriculture, Forestry and Fishing Support Services and Hunting', 'Building Cleaning, Pest Control and Other Support Services', 'Textile, Leather, Clothing and Footwear Manufacturing', 'Scientific, Architectural and Engineering Services'}\n",
    "119\n",
    "```"
   ]
  },
  {
   "cell_type": "markdown",
   "metadata": {},
   "source": [
    "### 3. Create new CSV files containing data only in the same year. Example: 2018.csv, 2017.csv, etc."
   ]
  },
  {
   "cell_type": "code",
   "execution_count": 47,
   "metadata": {},
   "outputs": [
    {
     "name": "stdout",
     "output_type": "stream",
     "text": [
      "{'2014', '2013', '2016', '2017', '2018', '2015'}\n"
     ]
    }
   ],
   "source": [
    "import csv\n",
    "file_path = \"annual-enterprise-survey-2018-financial-year-provisional-csv.csv\"\n",
    "\n",
    "with open(file_path, mode=\"r\") as file:\n",
    "    csv_reader = csv.reader(file)\n",
    "    data = list(csv_reader)\n",
    "header = data[0]\n",
    "rows = data[1:]\n",
    "year_index = header.index(\"Year\")\n",
    "\n",
    "unique_years = set()\n",
    "data_by_year = {}\n",
    "\n",
    "for row in rows:\n",
    "    year = row[year_index].strip()  \n",
    "    if year:  \n",
    "        unique_years.add(year)\n",
    "        if year not in data_by_year:\n",
    "            data_by_year[year] = []\n",
    "        data_by_year[year].append(row)\n",
    "\n",
    "print(unique_years)\n",
    "\n"
   ]
  },
  {
   "cell_type": "markdown",
   "metadata": {},
   "source": [
    "### Expected result:\n",
    "```\n",
    "{'2013', '2018', '2017', '2014', '2016', '2015'}\n",
    "```"
   ]
  },
  {
   "cell_type": "code",
   "execution_count": null,
   "metadata": {},
   "outputs": [
    {
     "name": "stdout",
     "output_type": "stream",
     "text": [
      "2018.csv is written\n",
      "2017.csv is written\n",
      "2016.csv is written\n",
      "2015.csv is written\n",
      "2014.csv is written\n",
      "2013.csv is written\n"
     ]
    }
   ],
   "source": [
    "for year, year_rows in data_by_year.items():\n",
    "    output_file = f\"{year}.csv\"\n",
    "    with open(output_file, mode=\"w\", newline=\"\") as file:\n",
    "        writer = csv.writer(file)\n",
    "        writer.writerow(header) \n",
    "        writer.writerows(year_rows) \n",
    "    print(f\"{output_file} is written\")"
   ]
  },
  {
   "cell_type": "markdown",
   "metadata": {},
   "source": [
    "### Expected result:\n",
    "```\n",
    "2013.csv is written\n",
    "2018.csv is written\n",
    "2017.csv is written\n",
    "2014.csv is written\n",
    "2016.csv is written\n",
    "2015.csv is written\n",
    "```"
   ]
  },
  {
   "cell_type": "code",
   "execution_count": 45,
   "metadata": {},
   "outputs": [
    {
     "name": "stdout",
     "output_type": "stream",
     "text": [
      "['2013.csv', '2014.csv', '2015.csv', '2016.csv', '2017.csv', '2018.csv', 'annual-enterprise-survey-2018-financial-year-provisional-csv.csv']\n"
     ]
    }
   ],
   "source": [
    "import os\n",
    "\n",
    "list_of_files = [file for file in os.listdir(\"./\") if file.endswith(\".csv\")]\n",
    "print(list_of_files)"
   ]
  },
  {
   "cell_type": "markdown",
   "metadata": {},
   "source": [
    "### Expected result:\n",
    "```\n",
    "['2018.csv', '2015.csv', '2014.csv', '2016.csv', '2017.csv', '2013.csv', 'annual-enterprise-survey-2018-financial-year-provisional-csv.csv']\n",
    "```\n",
    "\n",
    "\n",
    "** Please open the CSV files you just created and check whether the year in these files with the file name coincides. **"
   ]
  },
  {
   "cell_type": "markdown",
   "metadata": {},
   "source": [
    "### 4. Additionally: just try to analyze more data from the CSV file using all your knowledge. Example: sorting data on a specific column."
   ]
  },
  {
   "cell_type": "code",
   "execution_count": 59,
   "metadata": {},
   "outputs": [
    {
     "name": "stdout",
     "output_type": "stream",
     "text": [
      "['Accommodation', 'Accommodation and Food Services', 'Administrative and Support Services', 'Adult, Community and Other Education', 'Advertising, Market Research and Management Services', 'Agriculture, Forestry and Fishing', 'Agriculture, Forestry and Fishing Support Services and Hunting', 'All industries', 'Arts and Recreation Services', 'Arts, Recreation and Other Services', 'Auxiliary Finance and Insurance Services', 'Banking and Financing', 'Basic Chemical and Basic Polymer Manufacturing', 'Basic Chemical and Chemical Product Manufacturing', 'Basic Material Wholesaling', 'Beverage and Tobacco Product Manufacturing', 'Building Cleaning, Pest Control and Other Support Services', 'Building Construction', 'Civil, Professional and Other Interest Groups', 'Clothing, Knitted Products and Footwear Manufacturing', 'Commission Based Wholesaling', 'Computer System Design and Related Services', 'Construction', 'Construction Services', 'Dairy Cattle Farming', 'Department Stores', 'Education and Training', 'Electricity and Gas Supply', 'Electricity, Gas, Water and Waste Services', 'Electronic and Electrical Equipment Manufacturing', 'Employment and Other Administrative Services', 'Fabricated Metal Product Manufacturing', 'Fertiliser and Pesticide Manufacturing', 'Finance', 'Financial Asset Investing', 'Financial and Insurance Services', 'Fishing and Aquaculture', 'Food Product Manufacturing', 'Food and Beverage Services', 'Food product manufacturing', 'Forestry and Logging', 'Furniture Manufacturing', 'Furniture and Other Manufacturing', 'Furniture, Electrical and Hardware Retailing', 'Gambling Activities', 'Grocery, Liquor and Tobacco Product Wholesaling', 'Health Care and Social Assistance', 'Health and General Insurance', 'Heavy and Civil Engineering Construction', 'Heritage and Artistic Activities', 'Horticulture and Fruit Growing', 'Hospitals', 'Information Media Services', 'Information Media and Telecommunications', 'Insurance', 'Legal and Accounting Services', 'Life Insurance', 'Machinery Manufacturing', 'Machinery and Equipment Wholesaling', 'Machinery and Other Equipment Manufacturing', 'Manufacturing', 'Medical and Other Health Care Services', 'Mining', 'Motor Vehicle and Motor Vehicle Parts Wholesaling', 'Motor Vehicle and Motor Vehicle Parts and Fuel Retailing', 'Non-Financial Asset Leasing', 'Non-Metallic Mineral Product Manufacturing', 'Non-Residential Building Construction', 'Non-Residential Property Operation', 'Non-Store and Commission Based Retailing', 'Other Goods Wholesaling', 'Other Manufacturing', 'Other Services', 'Other Store-Based Retailing and Non Store Retailing', 'Personal Care, Funeral and Other Personal Services', 'Petroleum and Coal Product Manufacturing', 'Pharmaceutical and Other Store Based Retailing', 'Pharmaceutical, Cleaning and Other Chemical Manufacturing', 'Polymer Product and Rubber Product Manufacturing', 'Postal and Courier Pick Up and Delivery Services', 'Postal, Courier, Transport Support, and Warehousing Services', 'Poultry, Deer and Other Livestock Farming', 'Preschool Education', 'Primary Metal and Metal Product Manufacturing', 'Printing', 'Professional, Scientific and Technical Services', 'Professional, Scientific, Technical, Administrative and Support Services', 'Property Operators and Real Estate Services', 'Public Order, Safety and Regulatory Services', 'Public order, safety and regulatory services', 'Pulp, Paper and Converted Paper Product Manufacturing', 'Rail, Water, Air and Other Transport', 'Real Estate Services', 'Recreational, Clothing, Footwear and Personal Accessory Retailing', 'Rental and Hiring Services (except Real Estate)', 'Rental, Hiring and Real Estate Services', 'Repair and Maintenance', 'Residential Building Construction', 'Residential Care Services and Social Assistance', 'Retail Trade and Accommodation', 'Road Transport', 'School Education', 'Scientific, Architectural and Engineering Services', 'Sheep, Beef Cattle and Grain Farming', 'Sport and Recreation Activities', 'Supermarket, Grocery Stores and Specialised Food Retailing', 'Telecommunications, Internet and Library Services', 'Tertiary Education', 'Textile and Leather Manufacturing', 'Textile, Leather, Clothing and Footwear Manufacturing', 'Transport Equipment Manufacturing', 'Transport Support Services', 'Transport, Postal and Warehousing', 'Travel Agency and Tour Arrangement Services', 'Veterinary and Other Professional Services', 'Warehousing and Storage Services', 'Water, Sewerage, Drainage and Waste Services', 'Wholesale Trade', 'Wood Product Manufacturing']\n",
      "['Level 1', 'Level 3', 'Level 4']\n",
      "['2013', '2014', '2015', '2016', '2017', '2018']\n"
     ]
    }
   ],
   "source": [
    "import csv\n",
    "file_path = \"annual-enterprise-survey-2018-financial-year-provisional-csv.csv\"\n",
    "\n",
    "print(sorted(unique_industries))\n",
    "print(sorted(unique_levels))\n",
    "print(sorted(unique_years))"
   ]
  }
 ],
 "metadata": {
  "kernelspec": {
   "display_name": "Python 3",
   "language": "python",
   "name": "python3"
  },
  "language_info": {
   "codemirror_mode": {
    "name": "ipython",
    "version": 3
   },
   "file_extension": ".py",
   "mimetype": "text/x-python",
   "name": "python",
   "nbconvert_exporter": "python",
   "pygments_lexer": "ipython3",
   "version": "3.11.9"
  }
 },
 "nbformat": 4,
 "nbformat_minor": 2
}
