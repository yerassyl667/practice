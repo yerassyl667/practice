{
 "cells": [
  {
   "cell_type": "code",
   "execution_count": 19,
   "metadata": {},
   "outputs": [
    {
     "name": "stdout",
     "output_type": "stream",
     "text": [
      "cur|velo|7cur velo 7 \n",
      " 5\n",
      "cur velo 7"
     ]
    }
   ],
   "source": [
    "print(\"cur\", \"velo\", 7, sep=\"|\", end=\"\")\n",
    "print(\"cur\", \"velo\", 7, '\\n', 5)"
   ]
  },
  {
   "cell_type": "code",
   "execution_count": 11,
   "metadata": {},
   "outputs": [
    {
     "name": "stdout",
     "output_type": "stream",
     "text": [
      "-5\n",
      "111\n",
      "3\n",
      "100\n"
     ]
    }
   ],
   "source": [
    "print(min(1, 10, 0, 111, -5))\n",
    "print(max(1, 10, 0, 111, -5))\n",
    "print(round(3.49999))\n",
    "print(abs(-100))"
   ]
  },
  {
   "cell_type": "code",
   "execution_count": 31,
   "metadata": {},
   "outputs": [
    {
     "name": "stdout",
     "output_type": "stream",
     "text": [
      "6\n",
      "cuc5True\n"
     ]
    }
   ],
   "source": [
    "num = 5\n",
    "word = 'cuc'\n",
    "boolean = True \n",
    "print(num + int(boolean))\n",
    "print(word + str(num) + str(boolean))"
   ]
  },
  {
   "cell_type": "code",
   "execution_count": null,
   "metadata": {},
   "outputs": [
    {
     "name": "stdout",
     "output_type": "stream",
     "text": [
      "6.25\n"
     ]
    }
   ],
   "source": [
    "#данные от пользователя принимаются в виде str\n",
    "num1 = int(input())\n",
    "num2 = int(input())\n",
    "print(num1/num2+num)"
   ]
  },
  {
   "cell_type": "code",
   "execution_count": 36,
   "metadata": {},
   "outputs": [
    {
     "name": "stdout",
     "output_type": "stream",
     "text": [
      "poppoppop\n",
      "15\n"
     ]
    }
   ],
   "source": [
    "#питон автоматические удаляет и заменяет данные от переменной \n",
    "word = \"pop\"\n",
    "print(word * 3)\n",
    "word = 5\n",
    "print(word * 3)"
   ]
  }
 ],
 "metadata": {
  "kernelspec": {
   "display_name": "Python 3",
   "language": "python",
   "name": "python3"
  },
  "language_info": {
   "codemirror_mode": {
    "name": "ipython",
    "version": 3
   },
   "file_extension": ".py",
   "mimetype": "text/x-python",
   "name": "python",
   "nbconvert_exporter": "python",
   "pygments_lexer": "ipython3",
   "version": "3.11.9"
  }
 },
 "nbformat": 4,
 "nbformat_minor": 2
}
