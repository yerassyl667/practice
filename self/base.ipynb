{
 "cells": [
  {
   "cell_type": "code",
   "execution_count": 19,
   "metadata": {},
   "outputs": [
    {
     "name": "stdout",
     "output_type": "stream",
     "text": [
      "cur|velo|7cur velo 7 \n",
      " 5\n",
      "cur velo 7"
     ]
    }
   ],
   "source": [
    "print(\"cur\", \"velo\", 7, sep=\"|\", end=\"\")\n",
    "print(\"cur\", \"velo\", 7, '\\n', 5)"
   ]
  },
  {
   "cell_type": "code",
   "execution_count": 11,
   "metadata": {},
   "outputs": [
    {
     "name": "stdout",
     "output_type": "stream",
     "text": [
      "-5\n",
      "111\n",
      "3\n",
      "100\n"
     ]
    }
   ],
   "source": [
    "print(min(1, 10, 0, 111, -5))\n",
    "print(max(1, 10, 0, 111, -5))\n",
    "print(round(3.49999))\n",
    "print(abs(-100))"
   ]
  },
  {
   "cell_type": "code",
   "execution_count": 31,
   "metadata": {},
   "outputs": [
    {
     "name": "stdout",
     "output_type": "stream",
     "text": [
      "6\n",
      "cuc5True\n"
     ]
    }
   ],
   "source": [
    "num = 5\n",
    "word = 'cuc'\n",
    "boolean = True \n",
    "print(num + int(boolean))\n",
    "print(word + str(num) + str(boolean))"
   ]
  },
  {
   "cell_type": "code",
   "execution_count": null,
   "metadata": {},
   "outputs": [
    {
     "name": "stdout",
     "output_type": "stream",
     "text": [
      "6.25\n"
     ]
    }
   ],
   "source": [
    "#данные от пользователя принимаются в виде str\n",
    "num1 = int(input())\n",
    "num2 = int(input())\n",
    "print(num1/num2+num)"
   ]
  },
  {
   "cell_type": "code",
   "execution_count": 36,
   "metadata": {},
   "outputs": [
    {
     "name": "stdout",
     "output_type": "stream",
     "text": [
      "poppoppop\n",
      "15\n"
     ]
    }
   ],
   "source": [
    "#питон автоматические удаляет и заменяет данные от переменной \n",
    "word = \"pop\"\n",
    "print(word * 3)\n",
    "word = 5\n",
    "print(word * 3)"
   ]
  },
  {
   "cell_type": "code",
   "execution_count": 38,
   "metadata": {},
   "outputs": [
    {
     "name": "stdout",
     "output_type": "stream",
     "text": [
      "1 4 7 10 13 16 19 "
     ]
    }
   ],
   "source": [
    "a = int(input())#начало цикла(включительно)\n",
    "b = int(input())#конец цикла (не включительно)\n",
    "c = int(input())#шаг цикла\n",
    "for i in range(a, b, c):\n",
    "    print(i, end=\" \")"
   ]
  },
  {
   "cell_type": "code",
   "execution_count": 51,
   "metadata": {},
   "outputs": [
    {
     "name": "stdout",
     "output_type": "stream",
     "text": [
      "Количество элементов x : 2\n"
     ]
    }
   ],
   "source": [
    "#перебор строки\n",
    "word = \"Shinzo Sasageyo\"\n",
    "count = 0\n",
    "x = input()\n",
    "for i in word:\n",
    "    if i == x:\n",
    "        count += 1\n",
    "print(\"Количество элементов\", x,\":\", count)\n",
    "\n",
    "    "
   ]
  },
  {
   "cell_type": "code",
   "execution_count": 54,
   "metadata": {},
   "outputs": [
    {
     "name": "stdout",
     "output_type": "stream",
     "text": [
      "5 6 7 8 9 10 11 12 13 14 "
     ]
    }
   ],
   "source": [
    "i = 5\n",
    "while i < 15:\n",
    "    print(i, end=\" \")\n",
    "    i += 1"
   ]
  },
  {
   "cell_type": "code",
   "execution_count": 56,
   "metadata": {},
   "outputs": [],
   "source": [
    "isthisis = True\n",
    "while isthisis:\n",
    "    if input(\"Enter data: \") == \"Stop\":\n",
    "        isthisis = False"
   ]
  },
  {
   "cell_type": "markdown",
   "metadata": {},
   "source": [
    "break и continue так же работают в питоне"
   ]
  }
 ],
 "metadata": {
  "kernelspec": {
   "display_name": "Python 3",
   "language": "python",
   "name": "python3"
  },
  "language_info": {
   "codemirror_mode": {
    "name": "ipython",
    "version": 3
   },
   "file_extension": ".py",
   "mimetype": "text/x-python",
   "name": "python",
   "nbconvert_exporter": "python",
   "pygments_lexer": "ipython3",
   "version": "3.11.9"
  }
 },
 "nbformat": 4,
 "nbformat_minor": 2
}
