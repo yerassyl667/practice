{
 "cells": [
  {
   "cell_type": "code",
   "execution_count": 19,
   "metadata": {},
   "outputs": [
    {
     "name": "stdout",
     "output_type": "stream",
     "text": [
      "cur|velo|7cur velo 7 \n",
      " 5\n",
      "cur velo 7"
     ]
    }
   ],
   "source": [
    "print(\"cur\", \"velo\", 7, sep=\"|\", end=\"\")\n",
    "print(\"cur\", \"velo\", 7, '\\n', 5)"
   ]
  },
  {
   "cell_type": "code",
   "execution_count": 11,
   "metadata": {},
   "outputs": [
    {
     "name": "stdout",
     "output_type": "stream",
     "text": [
      "-5\n",
      "111\n",
      "3\n",
      "100\n"
     ]
    }
   ],
   "source": [
    "print(min(1, 10, 0, 111, -5))\n",
    "print(max(1, 10, 0, 111, -5))\n",
    "print(round(3.49999))\n",
    "print(abs(-100))"
   ]
  },
  {
   "cell_type": "code",
   "execution_count": 31,
   "metadata": {},
   "outputs": [
    {
     "name": "stdout",
     "output_type": "stream",
     "text": [
      "6\n",
      "cuc5True\n"
     ]
    }
   ],
   "source": [
    "num = 5\n",
    "word = 'cuc'\n",
    "boolean = True \n",
    "print(num + int(boolean))\n",
    "print(word + str(num) + str(boolean))"
   ]
  },
  {
   "cell_type": "code",
   "execution_count": null,
   "metadata": {},
   "outputs": [
    {
     "name": "stdout",
     "output_type": "stream",
     "text": [
      "6.25\n"
     ]
    }
   ],
   "source": [
    "#данные от пользователя принимаются в виде str\n",
    "num1 = int(input())\n",
    "num2 = int(input())\n",
    "print(num1/num2+num)"
   ]
  },
  {
   "cell_type": "code",
   "execution_count": 36,
   "metadata": {},
   "outputs": [
    {
     "name": "stdout",
     "output_type": "stream",
     "text": [
      "poppoppop\n",
      "15\n"
     ]
    }
   ],
   "source": [
    "#питон автоматические удаляет и заменяет данные от переменной \n",
    "word = \"pop\"\n",
    "print(word * 3)\n",
    "word = 5\n",
    "print(word * 3)"
   ]
  },
  {
   "cell_type": "code",
   "execution_count": 38,
   "metadata": {},
   "outputs": [
    {
     "name": "stdout",
     "output_type": "stream",
     "text": [
      "1 4 7 10 13 16 19 "
     ]
    }
   ],
   "source": [
    "a = int(input())#начало цикла(включительно)\n",
    "b = int(input())#конец цикла (не включительно)\n",
    "c = int(input())#шаг цикла\n",
    "for i in range(a, b, c):\n",
    "    print(i, end=\" \")"
   ]
  },
  {
   "cell_type": "code",
   "execution_count": 51,
   "metadata": {},
   "outputs": [
    {
     "name": "stdout",
     "output_type": "stream",
     "text": [
      "Количество элементов x : 2\n"
     ]
    }
   ],
   "source": [
    "#перебор строки\n",
    "word = \"Shinzo Sasageyo\"\n",
    "count = 0\n",
    "x = input()\n",
    "for i in word:\n",
    "    if i == x:\n",
    "        count += 1\n",
    "print(\"Количество элементов\", x,\":\", count)\n",
    "\n",
    "    "
   ]
  },
  {
   "cell_type": "code",
   "execution_count": 54,
   "metadata": {},
   "outputs": [
    {
     "name": "stdout",
     "output_type": "stream",
     "text": [
      "5 6 7 8 9 10 11 12 13 14 "
     ]
    }
   ],
   "source": [
    "i = 5\n",
    "while i < 15:\n",
    "    print(i, end=\" \")\n",
    "    i += 1"
   ]
  },
  {
   "cell_type": "code",
   "execution_count": 56,
   "metadata": {},
   "outputs": [],
   "source": [
    "isthisis = True\n",
    "while isthisis:\n",
    "    if input(\"Enter data: \") == \"Stop\":\n",
    "        isthisis = False"
   ]
  },
  {
   "cell_type": "code",
   "execution_count": 1,
   "metadata": {},
   "outputs": [
    {
     "name": "stdout",
     "output_type": "stream",
     "text": [
      "5 2 7 50 False 100 "
     ]
    }
   ],
   "source": [
    "nums = [5, 2, 7, \"50\", False, 100]\n",
    "for n in nums:\n",
    "    print(n, end=\" \")"
   ]
  },
  {
   "cell_type": "code",
   "execution_count": 9,
   "metadata": {},
   "outputs": [
    {
     "name": "stdout",
     "output_type": "stream",
     "text": [
      "Football,  basketball,  skate\n"
     ]
    }
   ],
   "source": [
    "word = 'football, basketball, skate'\n",
    "print(word.count('a'))\n",
    "print(word.capitalize())\n",
    "print(word.find('e'))\n",
    "print(word.split(','))\n",
    "hobby = word.split(',')\n",
    "\n",
    "for i in range(len(hobby)):\n",
    "    hobby[i] = hobby[i].capitalize()\n",
    "\n",
    "result = \", \".join(hobby)\n",
    "print(result)\n"
   ]
  },
  {
   "cell_type": "code",
   "execution_count": 14,
   "metadata": {},
   "outputs": [
    {
     "name": "stdout",
     "output_type": "stream",
     "text": [
      "ota\n",
      "['Stropa', 6.5]\n",
      "[6.5, True, 'Stropa', 4, 6]\n",
      "[6, 4, 'Stropa', True, 6.5]\n"
     ]
    }
   ],
   "source": [
    "#word[a:b:c] a - начало среза; b - конец среза; c - шаг среза;\n",
    "word = 'Football'\n",
    "print(word[1:-1:2]) \n",
    "lis = [6, 4, \"Stropa\", True, 6.5]\n",
    "print(lis[2:5:2])\n",
    "print(lis[::-1])\n",
    "print(lis[::])"
   ]
  },
  {
   "cell_type": "code",
   "execution_count": 23,
   "metadata": {},
   "outputs": [
    {
     "name": "stdout",
     "output_type": "stream",
     "text": [
      "144\n",
      "\n",
      "Russia\n",
      "\n",
      "dict_items([('code', 'RU'), ('name', 'Russia')])\n",
      "\n",
      "code  -  RU\n",
      "name  -  Russia\n",
      "\n",
      "dict_keys(['code', 'name'])\n",
      "dict_values(['RU', 'Russia'])\n"
     ]
    }
   ],
   "source": [
    "# name = {a : b} a - ключ; b - значение;\n",
    "#в качестве ключа может использоваться int, string, bool, tuple\n",
    "\n",
    "country = {'code' : 'RU', 'name' : 'Russian', 'population' : 144}\n",
    "print(country['population'])\n",
    "print()\n",
    "\n",
    "country = dict(code='RU', name='Russia') #в dict в качестве кода принимает только str\n",
    "print(country['name'])\n",
    "print()\n",
    "\n",
    "print(country.items())\n",
    "print()\n",
    "\n",
    "for key, value in country.items():\n",
    "    print(key, \" - \", value)\n",
    "print()\n",
    "\n",
    "print(country.keys())\n",
    "print(country.values())"
   ]
  },
  {
   "cell_type": "code",
   "execution_count": 24,
   "metadata": {},
   "outputs": [
    {
     "name": "stdout",
     "output_type": "stream",
     "text": [
      "{'first_name': 'Yerassyl', 'last_name': 'Kulseitov', 'age': 18, 'address': ('г. Алматы', 'Аксай - 1', '15'), 'busyness': 'student'}\n"
     ]
    }
   ],
   "source": [
    "person = {\n",
    "    'user_1': {\n",
    "        'first_name': 'Yerassyl',\n",
    "        'last_name': 'Kulseitov',\n",
    "        'age': 18,\n",
    "        'address': ('г. Алматы', 'Аксай - 1', '15',),\n",
    "        'busyness': 'student' \n",
    "    }\n",
    "}\n",
    "print(person['user_1'])"
   ]
  },
  {
   "cell_type": "markdown",
   "metadata": {},
   "source": [
    "name.function()\n",
    "\n",
    "insert(i, n) - добавит элемент n по индексу i #не удаляет элемент, а сдвигает \n",
    "\n",
    "extend([] or a) - добавляет дополнительный список прямо или через переменную\n",
    "\n",
    "append(n) - добавляет элемент\n",
    "\n",
    "pop(i) - при указании индекса удаляет элемент по индексу, в противном случае удаляет последний элемент\n",
    "\n",
    "remove(n) - удаляет элементы по значению\n",
    "\n",
    "sort(), clear(), reverse(), count(), len(), islower(), isupper(), lower(), upper(), isdigit(), isalnum() так же работают в питоне\n",
    "\n",
    "break и continue так же работают в питоне\n",
    "\n",
    "list в питоне может содержать элементы разных типов данных\n",
    "\n",
    "tuple(кортежи) - константы. неизменяемые и занимают меньше памяти, чем списки \n",
    "\n",
    "внутри словаря, списка можно помещать другой словарь и наоборот\n"
   ]
  }
 ],
 "metadata": {
  "kernelspec": {
   "display_name": "Python 3",
   "language": "python",
   "name": "python3"
  },
  "language_info": {
   "codemirror_mode": {
    "name": "ipython",
    "version": 3
   },
   "file_extension": ".py",
   "mimetype": "text/x-python",
   "name": "python",
   "nbconvert_exporter": "python",
   "pygments_lexer": "ipython3",
   "version": "3.11.9"
  }
 },
 "nbformat": 4,
 "nbformat_minor": 2
}
