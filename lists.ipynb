{
 "cells": [
  {
   "cell_type": "code",
   "execution_count": 26,
   "metadata": {},
   "outputs": [
    {
     "name": "stdout",
     "output_type": "stream",
     "text": [
      "[100, 'Brad', -10, 1, 10.4, 3, 4, 70, 24, -9, 'Hello', 'How']\n",
      "[100, -10, 1, 3, 4, 70, 24, -9]\n",
      "[[1, 2, 3], [4, 5, 6]]\n"
     ]
    }
   ],
   "source": [
    "arr1 = [100,\"Brad\",-10,1,10.4,3,4,70,24,-9, \"Hello\", \"How\"]\n",
    "arr2 = [100,-10,1,3,4,70,24,-9]\n",
    "arr3 = [100,-10,1,3,10,4,70,24,-9]\n",
    "arr4 = [[1,2,3],[4,5,6]]\n",
    "arr5 = [[1,4],[2,5],[3,6]]\n",
    "\n",
    "print(arr1)\n",
    "arr1 = arr2\n",
    "print(arr1)"
   ]
  },
  {
   "cell_type": "code",
   "execution_count": 27,
   "metadata": {},
   "outputs": [
    {
     "name": "stdout",
     "output_type": "stream",
     "text": [
      "[[1, 2, 3], [4, 5, 6]]\n",
      "[[1, 4], [2, 5], [3, 6]]\n"
     ]
    }
   ],
   "source": [
    "print(arr4)\n",
    "arr4 = arr5  \n",
    "print(arr4)\n",
    "\n"
   ]
  },
  {
   "cell_type": "code",
   "execution_count": 28,
   "metadata": {},
   "outputs": [
    {
     "name": "stdout",
     "output_type": "stream",
     "text": [
      "[100, -10, 1, 3, 10, 4, 70, 24, -9]\n"
     ]
    }
   ],
   "source": [
    "arr2 = [100,-10,1,3,4,70,24,-9]\n",
    "arr3 = [100,-10,1,3,10,4,70,24,-9]\n",
    "arr2.insert(4, 10)\n",
    "print(arr2)"
   ]
  },
  {
   "cell_type": "code",
   "execution_count": 2,
   "metadata": {},
   "outputs": [
    {
     "name": "stdout",
     "output_type": "stream",
     "text": [
      "[-10, -9, 1, 3, 4, 10, 24, 70, 100]\n"
     ]
    }
   ],
   "source": [
    "arr3 = [100,-10,1,3,10,4,70,24,-9]\n",
    "def bubble_sort(arr3):\n",
    "    n = len(arr3)\n",
    "    for i in range(n):\n",
    "        for j in range(0, n - i - 1):\n",
    "            if arr3[j] > arr3[j + 1]:  \n",
    "                arr3[j], arr3[j + 1] = arr3[j + 1], arr3[j] \n",
    "    return arr3\n",
    "bubble_sort(arr3)\n",
    "print(arr3)  \n"
   ]
  },
  {
   "cell_type": "code",
   "execution_count": 9,
   "metadata": {},
   "outputs": [
    {
     "name": "stdout",
     "output_type": "stream",
     "text": [
      "[100, 70, 24, 10, 4, 3, 1, -9, -10]\n"
     ]
    }
   ],
   "source": [
    "arr2 = [100, -10, 1, 3, 10, 4, 70, 24, -9]\n",
    "def bubble_sort(arr2):\n",
    "    n = len(arr2)\n",
    "    for i in range(n):\n",
    "        for j in range(0, n - i - 1):\n",
    "            if arr2[j] < arr2[j + 1]:  \n",
    "                arr2[j], arr2[j + 1] = arr2[j + 1], arr2[j] \n",
    "    return arr2\n",
    "bubble_sort(arr2)\n",
    "print(arr2)  "
   ]
  }
 ],
 "metadata": {
  "kernelspec": {
   "display_name": "Python 3",
   "language": "python",
   "name": "python3"
  },
  "language_info": {
   "codemirror_mode": {
    "name": "ipython",
    "version": 3
   },
   "file_extension": ".py",
   "mimetype": "text/x-python",
   "name": "python",
   "nbconvert_exporter": "python",
   "pygments_lexer": "ipython3",
   "version": "3.11.9"
  }
 },
 "nbformat": 4,
 "nbformat_minor": 2
}
