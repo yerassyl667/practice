{
 "cells": [
  {
   "cell_type": "markdown",
   "metadata": {},
   "source": [
    "### Modules: Introduction [Homework]"
   ]
  },
  {
   "cell_type": "markdown",
   "metadata": {},
   "source": [
    "### Step 1:\n",
    "\n",
    "Please create a ** arithmetics ** module, which contains the following functions:\n",
    "\n",
    "1. ** Add (a, b) ** - returns the sum of two numbers\n",
    "2. ** Subtract (a, b) ** - Returns ** Absolute ** The difference between two numbers\n",
    "3. ** Divide (a, b) ** - returns the integer division of a larger number by a smaller number\n",
    "4. ** Multiply (a, b) ** - returns the work of two numbers\n",
    "\n",
    "Then try to import it and start the code blocks below. Please attach ** archive file ** (\".zip\"), which will contain ** module file and Jupyter Notebook **.\n",
    "\n",
    "\n",
    "*** Note: the module file name should coincide with the imported module, and the extension of the file should be \".py\" ***\n",
    "\n",
    "---"
   ]
  },
  {
   "cell_type": "code",
   "execution_count": null,
   "metadata": {},
   "outputs": [],
   "source": [
    "import arithmetics"
   ]
  },
  {
   "cell_type": "markdown",
   "metadata": {},
   "source": [
    "### Expected results:\n",
    "```\n",
    "Arithmetics module is imported\n",
    "```"
   ]
  },
  {
   "cell_type": "markdown",
   "metadata": {},
   "source": [
    "Using ** only ** imported functions from the Arithmetics module, please solve the following problems."
   ]
  },
  {
   "cell_type": "code",
   "execution_count": null,
   "metadata": {},
   "outputs": [],
   "source": [
    "arr1 = [1,23,3,40,5]\n",
    "arr2 = [10,11,12,5,18]"
   ]
  },
  {
   "cell_type": "code",
   "execution_count": 4,
   "metadata": {},
   "outputs": [
    {
     "name": "stdout",
     "output_type": "stream",
     "text": [
      "[11, 34, 15, 45, 23]\n"
     ]
    }
   ],
   "source": [
    "import arithmetics\n",
    "\n",
    "arr1 = [1,23,3,40,5]\n",
    "arr2 = [10,11,12,5,18]\n",
    "sum2nums = []\n",
    "for num1, num2 in zip(arr1, arr2):\n",
    "    sum2nums.append(arithmetics.add(num1,num2))\n",
    "print(sum2nums)"
   ]
  },
  {
   "cell_type": "markdown",
   "metadata": {},
   "source": [
    "### Expected results:\n",
    "```\n",
    "[11, 34, 15, 45, 23]\n",
    "```"
   ]
  },
  {
   "cell_type": "code",
   "execution_count": 5,
   "metadata": {},
   "outputs": [
    {
     "name": "stdout",
     "output_type": "stream",
     "text": [
      "[9, 12, 9, 35, 13]\n"
     ]
    }
   ],
   "source": [
    "dif2nums = []\n",
    "for num1, num2 in zip(arr1, arr2):\n",
    "    dif2nums.append(arithmetics.subtract(num1,num2))\n",
    "print(dif2nums)"
   ]
  },
  {
   "cell_type": "markdown",
   "metadata": {},
   "source": [
    "### Expected results:\n",
    "```\n",
    "[9, 12, 9, 35, 13]\n",
    "```"
   ]
  },
  {
   "cell_type": "code",
   "execution_count": 6,
   "metadata": {},
   "outputs": [
    {
     "name": "stdout",
     "output_type": "stream",
     "text": [
      "[10, 2, 4, 8, 3]\n"
     ]
    }
   ],
   "source": [
    "div2nums = []\n",
    "for num1, num2 in zip(arr1, arr2):\n",
    "    div2nums.append(arithmetics.divide(num1,num2))\n",
    "print(div2nums)"
   ]
  },
  {
   "cell_type": "markdown",
   "metadata": {},
   "source": [
    "### Expected results:\n",
    "```\n",
    "[10, 2, 4, 8, 3]\n",
    "```"
   ]
  },
  {
   "cell_type": "code",
   "execution_count": 7,
   "metadata": {},
   "outputs": [
    {
     "name": "stdout",
     "output_type": "stream",
     "text": [
      "[10, 253, 36, 200, 90]\n"
     ]
    }
   ],
   "source": [
    "mul2nums = []\n",
    "for num1, num2 in zip(arr1, arr2):\n",
    "    mul2nums.append(arithmetics.multiply(num1,num2))\n",
    "print(mul2nums)"
   ]
  },
  {
   "cell_type": "markdown",
   "metadata": {},
   "source": [
    "### Expected results:\n",
    "```\n",
    "[10, 253, 36, 200, 90]\n",
    "```"
   ]
  },
  {
   "cell_type": "markdown",
   "metadata": {},
   "source": [
    "### Step 2:\n",
    "\n",
    "Please write the function: Test (Pred, Ref) - returns the logical value of True / False, if Pred and Ref definitely coincide."
   ]
  },
  {
   "cell_type": "code",
   "execution_count": 8,
   "metadata": {},
   "outputs": [
    {
     "name": "stdout",
     "output_type": "stream",
     "text": [
      "False\n",
      "True\n",
      "False\n"
     ]
    }
   ],
   "source": [
    "def test(Pred, Ref):\n",
    "    return Pred == Ref\n",
    "\n",
    "print(test(10,11))\n",
    "print(test([1,2,3],[1,2,3]))\n",
    "print(test(\"Hello\",\"hello\"))"
   ]
  },
  {
   "cell_type": "markdown",
   "metadata": {},
   "source": [
    "### Expected results:\n",
    "```\n",
    "False\n",
    "True\n",
    "False\n",
    "```"
   ]
  },
  {
   "cell_type": "markdown",
   "metadata": {},
   "source": [
    "### Step 3:\n",
    "\n",
    "Using only imported functions from the Arithmetics module, please write the following functions:\n",
    "\n",
    "1. Sumlist (Arr) - returns the sum of the elements of the ARR list\n",
    "2. Mullist (Arr) - returns the work of the ARR list elements\n",
    "3. Remlist (ARR1, ARR2) - returns a list of residues after dividing a larger number by smaller among the elements from the ARR1 and ARR2 lists.\n",
    "\n",
    "**Note:**\n",
    "\n",
    "- You cannot use the arithmetic operations \"+\", \"-\", \"/\", \"*\", \"%\", \"//\", as well as the built-in function \"SUM ()\", to solve these problems.\n",
    "- In order to write the Remlist (Arr1, Ar2) function, you can use the built -in functions \"max () and\" min () \"\n"
   ]
  },
  {
   "cell_type": "code",
   "execution_count": 9,
   "metadata": {},
   "outputs": [
    {
     "name": "stdout",
     "output_type": "stream",
     "text": [
      "True\n",
      "True\n"
     ]
    }
   ],
   "source": [
    "import arithmetics\n",
    "def sumlist(arr):\n",
    "    result = 0\n",
    "    for num in arr:\n",
    "        result = arithmetics.add(result, num)\n",
    "    return result\n",
    "    \n",
    "print(test(sumlist(arr1),sum(arr1)))\n",
    "print(test(sumlist(arr2),sum(arr2)))"
   ]
  },
  {
   "cell_type": "markdown",
   "metadata": {},
   "source": [
    "### Expected results:\n",
    "```\n",
    "True\n",
    "True\n",
    "```"
   ]
  },
  {
   "cell_type": "code",
   "execution_count": 16,
   "metadata": {},
   "outputs": [
    {
     "name": "stdout",
     "output_type": "stream",
     "text": [
      "True\n",
      "True\n"
     ]
    }
   ],
   "source": [
    "import arithmetics\n",
    "def multilist(arr):\n",
    "    result = 1\n",
    "    for num in arr:\n",
    "        result = arithmetics.multiply(result, num)\n",
    "    return result\n",
    "    \n",
    "print(test(multilist(arr1),13800))\n",
    "print(test(multilist(arr2),118800))"
   ]
  },
  {
   "cell_type": "markdown",
   "metadata": {},
   "source": [
    "### Expected results:\n",
    "```\n",
    "True\n",
    "```"
   ]
  },
  {
   "cell_type": "code",
   "execution_count": 17,
   "metadata": {},
   "outputs": [
    {
     "ename": "TypeError",
     "evalue": "unsupported operand type(s) for //: 'list' and 'list'",
     "output_type": "error",
     "traceback": [
      "\u001b[1;31m---------------------------------------------------------------------------\u001b[0m",
      "\u001b[1;31mTypeError\u001b[0m                                 Traceback (most recent call last)",
      "Cell \u001b[1;32mIn[17], line 6\u001b[0m\n\u001b[0;32m      3\u001b[0m     result \u001b[38;5;241m=\u001b[39m arithmetics\u001b[38;5;241m.\u001b[39msubtract(arr1, arithmetics\u001b[38;5;241m.\u001b[39mmultiply(arr1, arithmetics\u001b[38;5;241m.\u001b[39mdivide(arr1, arr2)))\n\u001b[0;32m      4\u001b[0m     \u001b[38;5;28;01mreturn\u001b[39;00m result\n\u001b[1;32m----> 6\u001b[0m \u001b[38;5;28mprint\u001b[39m(test(\u001b[43mremlist\u001b[49m\u001b[43m(\u001b[49m\u001b[43marr1\u001b[49m\u001b[43m,\u001b[49m\u001b[43marr2\u001b[49m\u001b[43m)\u001b[49m,[\u001b[38;5;241m0\u001b[39m, \u001b[38;5;241m1\u001b[39m, \u001b[38;5;241m0\u001b[39m, \u001b[38;5;241m0\u001b[39m, \u001b[38;5;241m3\u001b[39m]))\n",
      "Cell \u001b[1;32mIn[17], line 3\u001b[0m, in \u001b[0;36mremlist\u001b[1;34m(arr1, arr2)\u001b[0m\n\u001b[0;32m      2\u001b[0m \u001b[38;5;28;01mdef\u001b[39;00m\u001b[38;5;250m \u001b[39m\u001b[38;5;21mremlist\u001b[39m(arr1, arr2):\n\u001b[1;32m----> 3\u001b[0m     result \u001b[38;5;241m=\u001b[39m arithmetics\u001b[38;5;241m.\u001b[39msubtract(arr1, arithmetics\u001b[38;5;241m.\u001b[39mmultiply(arr1, \u001b[43marithmetics\u001b[49m\u001b[38;5;241;43m.\u001b[39;49m\u001b[43mdivide\u001b[49m\u001b[43m(\u001b[49m\u001b[43marr1\u001b[49m\u001b[43m,\u001b[49m\u001b[43m \u001b[49m\u001b[43marr2\u001b[49m\u001b[43m)\u001b[49m))\n\u001b[0;32m      4\u001b[0m     \u001b[38;5;28;01mreturn\u001b[39;00m result\n",
      "File \u001b[1;32mc:\\Users\\kulse\\OneDrive\\Рабочий стол\\seminar\\practice\\assignment\\arithmetics.py:9\u001b[0m, in \u001b[0;36mdivide\u001b[1;34m(a, b)\u001b[0m\n\u001b[0;32m      7\u001b[0m \u001b[38;5;28;01mdef\u001b[39;00m\u001b[38;5;250m \u001b[39m\u001b[38;5;21mdivide\u001b[39m(a, b):\n\u001b[0;32m      8\u001b[0m     larger, smaller \u001b[38;5;241m=\u001b[39m \u001b[38;5;28mmax\u001b[39m(a, b), \u001b[38;5;28mmin\u001b[39m(a, b)\n\u001b[1;32m----> 9\u001b[0m     \u001b[38;5;28;01mreturn\u001b[39;00m \u001b[43mlarger\u001b[49m\u001b[43m \u001b[49m\u001b[38;5;241;43m/\u001b[39;49m\u001b[38;5;241;43m/\u001b[39;49m\u001b[43m \u001b[49m\u001b[43msmaller\u001b[49m \u001b[38;5;28;01mif\u001b[39;00m smaller \u001b[38;5;241m!=\u001b[39m \u001b[38;5;241m0\u001b[39m \u001b[38;5;28;01melse\u001b[39;00m \u001b[38;5;28;01mNone\u001b[39;00m\n",
      "\u001b[1;31mTypeError\u001b[0m: unsupported operand type(s) for //: 'list' and 'list'"
     ]
    }
   ],
   "source": [
    "import arithmetics\n",
    "def remlist(arr1, arr2):\n",
    "    result = arithmetics.subtract(arr1, arithmetics.multiply(arr1, arithmetics.divide(arr1, arr2)))\n",
    "    return result\n",
    "    \n",
    "print(test(remlist(arr1,arr2),[0, 1, 0, 0, 3]))"
   ]
  },
  {
   "cell_type": "markdown",
   "metadata": {},
   "source": [
    "### Expected results:\n",
    "```\n",
    "True\n",
    "```"
   ]
  }
 ],
 "metadata": {
  "kernelspec": {
   "display_name": "Python 3",
   "language": "python",
   "name": "python3"
  },
  "language_info": {
   "codemirror_mode": {
    "name": "ipython",
    "version": 3
   },
   "file_extension": ".py",
   "mimetype": "text/x-python",
   "name": "python",
   "nbconvert_exporter": "python",
   "pygments_lexer": "ipython3",
   "version": "3.11.9"
  }
 },
 "nbformat": 4,
 "nbformat_minor": 2
}
