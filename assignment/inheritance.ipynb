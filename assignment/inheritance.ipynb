{
 "cells": [
  {
   "cell_type": "code",
   "execution_count": 7,
   "metadata": {},
   "outputs": [
    {
     "name": "stdout",
     "output_type": "stream",
     "text": [
      "['__class__', '__delattr__', '__dict__', '__dir__', '__doc__', '__eq__', '__format__', '__ge__', '__getattribute__', '__getstate__', '__gt__', '__hash__', '__init__', '__init_subclass__', '__le__', '__lt__', '__module__', '__ne__', '__new__', '__reduce__', '__reduce_ex__', '__repr__', '__setattr__', '__sizeof__', '__str__', '__subclasshook__', '__weakref__', '_init_', '_str_', 'get_area', 'get_info', 'get_perimeter']\n"
     ]
    }
   ],
   "source": [
    "class Rectangle:\n",
    "    def _init_(self, width=None, height=None):\n",
    "        self.width = width \n",
    "        self.height = height \n",
    "\n",
    "    def _str_(self):\n",
    "        return f\"Rectangle({self.width}, {self.height})\"\n",
    "\n",
    "    def get_area(self):\n",
    "        return self.width * self.height\n",
    "\n",
    "    def get_perimeter(self):\n",
    "        return 2 * (self.width + self.height)\n",
    "\n",
    "    @staticmethod\n",
    "    def get_info():\n",
    "        return \"This class calculates perimeter and area of the rectangles.\"\n",
    "\n",
    "print(dir(Rectangle))"
   ]
  },
  {
   "cell_type": "code",
   "execution_count": null,
   "metadata": {},
   "outputs": [],
   "source": [
    "print(Rectangle.get_info())\n",
    "r1 = Rectangle(width=3, height=5)\n",
    "print(r1)"
   ]
  }
 ],
 "metadata": {
  "kernelspec": {
   "display_name": "Python 3",
   "language": "python",
   "name": "python3"
  },
  "language_info": {
   "codemirror_mode": {
    "name": "ipython",
    "version": 3
   },
   "file_extension": ".py",
   "mimetype": "text/x-python",
   "name": "python",
   "nbconvert_exporter": "python",
   "pygments_lexer": "ipython3",
   "version": "3.11.9"
  }
 },
 "nbformat": 4,
 "nbformat_minor": 2
}
